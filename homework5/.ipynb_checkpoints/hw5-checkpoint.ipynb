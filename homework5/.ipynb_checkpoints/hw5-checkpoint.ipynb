{
 "cells": [
  {
   "cell_type": "markdown",
   "id": "c3994cc0-6649-4ce3-87a7-ae1067d36615",
   "metadata": {},
   "source": [
    "## Problem 1"
   ]
  },
  {
   "cell_type": "markdown",
   "id": "1be660f4-72aa-4e0b-aa71-a5558bae3577",
   "metadata": {},
   "source": [
    "1. $\\mathtt{pwd}$\n",
    "\n",
    "2. $\\mathtt{ls}$, and it will list $\\mathtt{patterns.txt}$ and $\\mathtt{symmetry.py}$\n",
    "3. $\\mathtt{sudo \\space gedit \\space patterns.txt, \n",
    "sudo \\space nano \\space helloWorld.txt, xdg-open \\space patterns.txt}$\n",
    "4. $\\mathtt{cat \\left < \\rm filename \\right >}$\n",
    "5. $\\mathtt{diff \\space patterns.txt \\space symmetry.txt}$\n",
    "6. $\\mathtt{mv \\space patterns.txt \\space ~/math/calculus/}$ OR $\\mathtt{mv \\space patterns.txt \\space ../math/calculus}$\n",
    "7. $\\mathtt{rm \\space triangle.txt}$\n",
    "8. $\\mathtt{cd \\space ../math}$\n",
    "9. $\\mathtt{git \\space init}$\n",
    "10. create remote repository in github online, copy its SSH remote url and in local terminal, run $\\mathtt{git \\space remote \\space add \\space origin \\space <SSH \\space url>}$\n",
    "11. $\\mathtt{git \\space clone \\space ~math/symmetry.txt}$\n",
    "12. $\\mathtt{git \\space status}$, no because $\\mathtt{symmetry.txt}$ is not yet added to git to track ever since it was cloned\n",
    "13. $\\mathtt{git \\space add \\space symmetry.txt}$ OR $\\mathtt{git \\space add \\space .}$\n",
    "14. yes, $\\mathtt{git \\space restore \\space --staged \\space symmetry.txt}$ would unstage the file\n",
    "\n",
    "15. $\\mathtt{git \\space commit \\space -m \\space 'message'}$\n",
    "\n",
    "16. $\\mathtt{git \\space push \\space origin \\space main}$ , need to push to main branch because main (or default) branch is where we want to make changes\n",
    "\n",
    "17. $\\mathtt{git \\space branch \\space applied\\_math}$\n",
    "\n",
    "18. $\\mathtt{git \\space checkout \\space applied\\_math}$\n",
    "\n",
    "19. run the following: $\\mathtt{git \\space add \\space .}$ -> $\\mathtt{git \\space commit \\space -m \\space 'message'}$ -> $\\mathtt{git \\space push \\space origin \\space applied\\_math}$ checking out to main branch before committing changes would cause nothing for a moment, but making any changes from main branch and pushing it to the remote git repo would cause error\n",
    "\n",
    "20. $\\mathtt{git \\space branch}$, since we did not checkout from applied_math branch yet $\\mathtt{applied\\_math}$ would be highlighted in green\n",
    "\n",
    "21. $\\mathtt{git \\space checkout \\space main}$\n",
    "\n",
    "22. run the following: $\\mathtt{git \\space checkout \\space main}$ -> $\\mathtt{git \\space pull \\space origin \\space main}$ -> $\\mathtt{git \\space merge \\space applied\\_math}$ -> $\\mathtt{git \\space push \\space origin \\space main}$"
   ]
  },
  {
   "cell_type": "code",
   "execution_count": null,
   "id": "14dd3527-b222-41ba-9594-c87f40fbca28",
   "metadata": {},
   "outputs": [],
   "source": []
  }
 ],
 "metadata": {
  "kernelspec": {
   "display_name": "Python 3 (ipykernel)",
   "language": "python",
   "name": "python3"
  },
  "language_info": {
   "codemirror_mode": {
    "name": "ipython",
    "version": 3
   },
   "file_extension": ".py",
   "mimetype": "text/x-python",
   "name": "python",
   "nbconvert_exporter": "python",
   "pygments_lexer": "ipython3",
   "version": "3.10.4"
  }
 },
 "nbformat": 4,
 "nbformat_minor": 5
}
