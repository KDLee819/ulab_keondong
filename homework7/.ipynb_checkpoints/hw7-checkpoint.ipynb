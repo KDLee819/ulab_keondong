{
 "cells": [
  {
   "cell_type": "markdown",
   "id": "21a1f0d2-d75c-4443-b816-1d1db3760454",
   "metadata": {},
   "source": [
    "# HW 7 - Libraries + Modules\n",
    "ULAB - Physics and Astronomy Division \\\n",
    "Due **Wednesday, November 6th, 2024 at 11:59pm** on Gradescope\n",
    "\n",
    "--------------------------------------------------------------\n",
    "\n",
    "## Module vs. Package vs. Library\n",
    "### Module\n",
    "A **module** is a single file containing Python code (typically ending in a `.py` extension) that contains functions and variables. \n",
    "- They can be imported into other Python files or notebooks\n",
    "- You use modules to organize code into smaller, reuseable parts\n",
    "- Ex: `even_sum.py` that we created during lecture.\n",
    "\n",
    "*You will create your OWN module for this homework and use that we made during class.*\n",
    "\n",
    "### Package\n",
    "A **package** is a group of modules, organized like a directory. \n",
    "- A package requires a special `__init__.py` file to tell Python that the ENTIRE directory is something you would like to import.\n",
    "- Packages can contain sub-pacakges\n",
    "- Ex: `BAGLE_Microlensing` is an example of a package (if you are in Dex's group, this should be familar to you). Or you could think of `paarti` if you are in Brianna's group.\n",
    "\n",
    "*You will NOT be working with a package for this homework.*\n",
    "\n",
    "### Library\n",
    "A **library** is a much broader term that also refers to a collection of modules (like a package) but a library can also contain mulitple packages. \n",
    "- Libraries serve a much wider range of functionality for\n",
    "- Programmers use packages to have ready-to-go tools that can be used for data manipulation, web development, machine learning or simulations.\n",
    "- Ex: `numpy` is a very common library. Later in this course we will also be working some of the following libraries `matplotlib`, `scipy`, and `astropy`, `pandas`, etc\n",
    "\n",
    "*You WILL be working with the extensive numpy library for this homework!*\n",
    "\n",
    "--------------------------------------------------------------"
   ]
  },
  {
   "cell_type": "markdown",
   "id": "8dc7e46b-1e8e-486c-a2e9-d615c687028b",
   "metadata": {},
   "source": [
    "# 1 NumPy\n",
    "**NumPy** (aka Numerical Python) is a library that was designed for caring out computations in Python. \n",
    "\n",
    "We did not have a ton of time to work through examples during class, so I will ask that you check out this website for more information: https://numpy.org/doc/ \n",
    "\n",
    "Before we can work through any problems, you need to call the following in your notebook:"
   ]
  },
  {
   "cell_type": "code",
   "execution_count": 252,
   "id": "08dabd73-3dbc-4aab-843a-d4b81102835d",
   "metadata": {},
   "outputs": [],
   "source": [
    "import numpy as np"
   ]
  },
  {
   "cell_type": "markdown",
   "id": "92c77920-20fc-455e-bf52-10b5a518ed2d",
   "metadata": {},
   "source": [
    "## 1.1 Lists vs. Arrays\n",
    "*When I first started working with NumPy I didn't understand what was so special about arrays. This homework problem should help illustrate the difference. Make sure to follow each step and follow good coding practices.*\n",
    "\n",
    "1) Make a list called `my_list` and make an array called `my_arr` with the same values. There is an example below, but don't copy mine! Ex:\n",
    "```\n",
    "my_list = [11, 12, 13, 14, 15]\n",
    "my_arr = np.array([11, 12, 13, 14, 15])\n",
    "```\n",
    "*Notice that to use the `numpy` package we had to call its short cut `np` and then call upon its funciton `.array()`. This is similar to working with a built-in python function like `.append()`.*"
   ]
  },
  {
   "cell_type": "code",
   "execution_count": 253,
   "id": "494f31ac-a231-4f65-b202-e85208d6bee4",
   "metadata": {},
   "outputs": [],
   "source": [
    "# Your code here\n",
    "\n",
    "my_list = [1, 2, 3, 5, 8, 13]\n",
    "my_arr = np.array([1, 2, 3, 5, 8, 13])"
   ]
  },
  {
   "cell_type": "markdown",
   "id": "861d42c4-411e-4ef9-b85c-68e1f61c4fcb",
   "metadata": {},
   "source": [
    "2) Multiply `my_list` by 4 and multiply `my_arr` by 4. Print the results. Describe what happens in a comment."
   ]
  },
  {
   "cell_type": "code",
   "execution_count": 254,
   "id": "79245f57-3a83-4300-96d2-ea7a9035d3eb",
   "metadata": {},
   "outputs": [
    {
     "name": "stdout",
     "output_type": "stream",
     "text": [
      "[1, 2, 3, 5, 8, 13, 1, 2, 3, 5, 8, 13, 1, 2, 3, 5, 8, 13, 1, 2, 3, 5, 8, 13]\n",
      "[ 4  8 12 20 32 52]\n"
     ]
    }
   ],
   "source": [
    "# Your code here\n",
    "\n",
    "print(my_list * 4)\n",
    "print(my_arr * 4)\n",
    "\n",
    "## Multiplication of a list just concatenates the list, thus number of elements increase by 4.\n",
    "## Multiplication of an array returns another array with same number of elements, each element multiplied by 4"
   ]
  },
  {
   "cell_type": "markdown",
   "id": "aa2dc2fb-7a26-42e8-90db-18d1598f4d7c",
   "metadata": {},
   "source": [
    "3) Add `my_list` with `my_list`. Add `my_arr` with `my_arr`. Add `my_list` with `my_arr`. Print the results. Describe what happens in a comment."
   ]
  },
  {
   "cell_type": "code",
   "execution_count": 255,
   "id": "9f18f22e-3137-4aa9-b623-6d2c0caec4c3",
   "metadata": {},
   "outputs": [
    {
     "name": "stdout",
     "output_type": "stream",
     "text": [
      "[1, 2, 3, 5, 8, 13, 1, 2, 3, 5, 8, 13]\n",
      "[ 2  4  6 10 16 26]\n"
     ]
    }
   ],
   "source": [
    "# Your code here\n",
    "\n",
    "print(my_list + my_list)\n",
    "print(my_arr + my_arr)\n",
    "\n",
    "## Addition of two lists returns concatenation of two lists, as if multipling single list by 2.\n",
    "## Addition of two arrays returns the same dimension array where its element is the sum of elements in the same index."
   ]
  },
  {
   "cell_type": "markdown",
   "id": "3be18720-756f-43d1-bad7-bd85e138ef7e",
   "metadata": {},
   "source": [
    "4) Subtract `my_list` with `my_list`. Subtract `my_arr` with `my_arr`. Subtract `my_list` with `my_arr`. Print the results. Describe what happens in a comment."
   ]
  },
  {
   "cell_type": "code",
   "execution_count": 256,
   "id": "131b09c8-d352-4566-b710-31316483ae89",
   "metadata": {},
   "outputs": [
    {
     "name": "stdout",
     "output_type": "stream",
     "text": [
      "[0 0 0 0 0 0]\n",
      "[0 0 0 0 0 0]\n",
      "This does not work!\n"
     ]
    }
   ],
   "source": [
    "# Your code here\n",
    "\n",
    "print(my_arr - my_arr)\n",
    "print(my_list - my_arr)\n",
    "try: \n",
    "    print(my_list - my_list)\n",
    "except TypeError:\n",
    "    print(\"This does not work!\")\n",
    "\n",
    "## Subtracting array from array is the same dimensional array with each element being the difference of elements in the same index.\n",
    "## Subtracting array from the list returns the same result\n",
    "## Subtracting list from the another list is NOT defined in python, gives rise to TypeError"
   ]
  },
  {
   "cell_type": "markdown",
   "id": "9089eff6-4251-4a52-b263-c77b11343ece",
   "metadata": {},
   "source": [
    "5) Multiply `my_list` with `my_list`. Multply `my_arr` with `my_arr`. Multiply `my_list` with `my_arr`. Print the results. Describe what happens in a comment."
   ]
  },
  {
   "cell_type": "code",
   "execution_count": 257,
   "id": "cae7749f-cc6e-45d6-9e07-72aa2cefc0b6",
   "metadata": {},
   "outputs": [
    {
     "name": "stdout",
     "output_type": "stream",
     "text": [
      "[  1   4   9  25  64 169]\n",
      "[  1   4   9  25  64 169]\n",
      "This does not work!\n"
     ]
    }
   ],
   "source": [
    "# Your code here\n",
    "\n",
    "print(my_arr * my_arr)\n",
    "print(my_list * my_arr)\n",
    "try: \n",
    "    print(my_list * my_list)\n",
    "except TypeError:\n",
    "    print(\"This does not work!\")\n",
    "\n",
    "## Multypling array by array gives the same dimensional array with each element being the product of elements in the same index.\n",
    "## Multypling the list by array returns the same result\n",
    "## Multypling list by another list is NOT supported in python, again giving rise to TypeError"
   ]
  },
  {
   "cell_type": "markdown",
   "id": "55175f6e-e6b2-41b1-8015-5f1b099664e8",
   "metadata": {},
   "source": [
    "7) Divide `my_list` with `my_list`. Divide `my_arr` with `my_arr`. Divide `my_list` with `my_arr`. Print the results. Describe what happens in a comment."
   ]
  },
  {
   "cell_type": "code",
   "execution_count": 258,
   "id": "ccdc8e13-ec41-4b79-8034-0934c012580e",
   "metadata": {},
   "outputs": [
    {
     "name": "stdout",
     "output_type": "stream",
     "text": [
      "[1. 1. 1. 1. 1. 1.]\n",
      "[1. 1. 1. 1. 1. 1.]\n",
      "This does not work!\n"
     ]
    }
   ],
   "source": [
    "# Your code here\n",
    "\n",
    "print(my_arr / my_arr)\n",
    "print(my_list / my_arr)\n",
    "try: \n",
    "    print(my_list / my_list)\n",
    "except TypeError:\n",
    "    print(\"This does not work!\")\n",
    "\n",
    "## Dividing array by array gives the same dimensional array with each element being the division of elements in the same index.\n",
    "## Dividing the list by array returns the same result\n",
    "## Dividing list by another list is also NOT defined in python, again giving rise to TypeError"
   ]
  },
  {
   "cell_type": "markdown",
   "id": "1fb261e6-b99b-4e36-953a-e899da010469",
   "metadata": {},
   "source": [
    "8) After working through this problem, in at least two sentences, describe the difference between a list and an array."
   ]
  },
  {
   "cell_type": "code",
   "execution_count": 259,
   "id": "d702ddad-c84d-43d5-9fe0-d10b9083bf85",
   "metadata": {},
   "outputs": [],
   "source": [
    "# Your code here\n",
    "\n",
    "# List cannot undergo subtraction, multiplication, and division between themselves.\n",
    "# Addition of lists returns just a concatenation of the lists, whereas addition of arrays return performs addition that we know.\n",
    "# Similarly, list can only be multiplied by an integer, and its result is also a concatenation of corresponding numbers of list.\n",
    "# On the other hand, array can be multiplied by any int or float which gives that number times elements of the array."
   ]
  },
  {
   "cell_type": "markdown",
   "id": "fdbccced-d3f0-4948-be6e-471028979576",
   "metadata": {},
   "source": [
    "## 1.2 Nested List and Multi-Dimensional Arrays\n",
    "A **nested list** is when you have a list as an element for a list. Example:\n",
    "```\n",
    "nested_list = [[1, 2, 3], [4, 5, 6]]\n",
    "```\n",
    "\n",
    "A **multi-dimensional array** is essentially a nested list, but it contains the properties of a matrix. Example:\n",
    "```\n",
    "multi_d_array = np.array([[1, 2, 3], [4, 5, 6]])\n",
    "```\n",
    "\n",
    "Go to this website for more information on NumPy: https://www.w3schools.com/python/numpy/default.asp\n",
    "\n",
    "Write a **function** that takes in a two-dimensional array. Example:\n",
    "\n",
    "```\n",
    "arr3 = np.array([[2, 4, 6], [8, 10, 12], [14, 16, 18]])\n",
    "```\n",
    "\n",
    "and then returns the second value in each row. Example:\n",
    "\n",
    "```\n",
    "[4, 10, 16]\n",
    "```"
   ]
  },
  {
   "cell_type": "code",
   "execution_count": 260,
   "id": "e6d45993-2390-4e2d-bb6e-930919dd7d46",
   "metadata": {},
   "outputs": [
    {
     "name": "stdout",
     "output_type": "stream",
     "text": [
      "[78, 5, 92]\n"
     ]
    }
   ],
   "source": [
    "# Your code here\n",
    "\n",
    "# This is a 3x3 array that I will going to use\n",
    "two_dim_array = np.array([[6, 78, 45], [6, 5, 45], [87, 92, 6]])\n",
    "\n",
    "\n",
    "# Function that takes an array as argument\n",
    "def second_val_row(array):\n",
    "\n",
    "    # This is a list that will store the second value of each row\n",
    "    second_val_list = []\n",
    "\n",
    "    # Iterate over each lists (rows)\n",
    "    for row in array:\n",
    "        # Append the 1st index number (2nd value)\n",
    "        second_val_list.append(row[1])\n",
    "\n",
    "    return second_val_list\n",
    "\n",
    "\n",
    "print(second_val_row(two_dim_array)) # It works!"
   ]
  },
  {
   "cell_type": "markdown",
   "id": "e5c0700d-def9-4afe-86f5-0a4b8862c0b4",
   "metadata": {},
   "source": [
    "In 2-3 sentences, describe what section of the website helped you write your function. "
   ]
  },
  {
   "cell_type": "code",
   "execution_count": 261,
   "id": "179c2c8d-3493-40a5-931f-7a92be8551a6",
   "metadata": {},
   "outputs": [],
   "source": [
    "# Your comment here\n",
    "\n",
    "# Array indexing part was a key to solve this question.\n",
    "# Also, iterating over array section was helpful to write a for-loop."
   ]
  },
  {
   "cell_type": "markdown",
   "id": "2bee5ead-232c-495c-8e42-1721bd315957",
   "metadata": {},
   "source": [
    "How would you take a nested list and return the second value in each row? Explain in 2-3 sentences and show an example."
   ]
  },
  {
   "cell_type": "code",
   "execution_count": 262,
   "id": "c281b9c4-a987-4ac1-ba8b-59f193dd56b9",
   "metadata": {},
   "outputs": [
    {
     "name": "stdout",
     "output_type": "stream",
     "text": [
      "[78, 5, 92]\n"
     ]
    }
   ],
   "source": [
    "# Taking a nested list and doing the same job will require the exactly same process.\n",
    "# This is because nested list is a list of lists, and multy_d_array is also a list of lists.\n",
    "# One difference is that lists in multy_d_array are arranged vertically.\n",
    "# However, this does not affect the process of iteration.\n",
    "# Will show this by calling the exactly same function above, but giving nested list instead as its argument.\n",
    "\n",
    "my_nested_list = [[6, 78, 45], [6, 5, 45], [87, 92, 6]]\n",
    "\n",
    "print(second_val_row(my_nested_list)) # It works!"
   ]
  },
  {
   "cell_type": "markdown",
   "id": "25eaeadc-b09d-4ca8-9849-822879abdad2",
   "metadata": {},
   "source": [
    "## 1.3 Up to You!\n",
    "With the website I just gave you: https://www.w3schools.com/python/numpy/default.asp\n",
    "\n",
    "I recommend working through the examples they provide (you don't have to do all of them, but a few would be good). It will help you build an intuition for numpy. It won't take very long, there are only a couple of examples per section.\n",
    "\n",
    "Write you own **function** that follows the theme of one of the sections (i.e. array reshaping, array filter, random intro, etc). For example, if you are curious about the section \"**NumPy Creating Arrays**\" you could write a function that creates a multi-dimensional array.\n",
    "\n",
    "```\n",
    "\n",
    ">>> def make_multi_dimensional_array(one_d_array, dimensions):\n",
    "...     # Creates a multi-dimensional array\n",
    "...     # Your code here\n",
    "...     return # Your code here\n",
    "\n",
    ">>> my_one_d_array = [2, 4, 6, 8]\n",
    ">>> my_dimension = 10\n",
    ">>> ten_d_array = make_multi_dimensional_array(my_one_d_array, my_dimension)\n",
    ">>> print(ten_d_array)\n",
    "[[[[[[[[[[2 4 6 8]]]]]]]]]]\n",
    "\n",
    "```\n",
    "\n",
    "Your function should be more detailed than the example I gave you. Include at least one of the following: \n",
    "- a conditional statement\n",
    "- an assignment operator\n",
    "- a loop (`for` or `while`)\n",
    "- `if`, `elif`, `else`, statement"
   ]
  },
  {
   "cell_type": "code",
   "execution_count": 263,
   "id": "359f524a-30ee-446c-a6d6-a57faecf5bcb",
   "metadata": {},
   "outputs": [
    {
     "name": "stdout",
     "output_type": "stream",
     "text": [
      "[5, 10, 15, 20, 25, 30, 35, 40, 45, 50, 55, 60, 65, 70, 75, 80, 85, 90, 95]\n",
      "[7, 14, 21, 28, 35, 42, 49, 56, 63, 70, 77, 84, 91, 98]\n",
      "[9, 18, 27, 36, 45, 54, 63, 72, 81, 90, 99]\n",
      "[17, 34, 51, 68, 85]\n"
     ]
    }
   ],
   "source": [
    "# Your code here\n",
    "\n",
    "my_array = np.arange(1, 100)\n",
    "\n",
    "# Function that prints out multiples of ANY integer in a given list\n",
    "def any_int_multiple_finder(array, integer):\n",
    "    # This will return a tuple that contains array of the index of integer multiples in its 0th index\n",
    "    int_index_list = np.where(array%integer == 0)[0]\n",
    "\n",
    "    int_multiple_list = []\n",
    "    # Iterate over the array just made to print out actual values in the given array\n",
    "    for index in int_index_list:\n",
    "        int_multiple_list.append(array[index])\n",
    "\n",
    "    return int_multiple_list\n",
    "\n",
    "print(any_int_multiple_finder(my_array, 5))  # Multiples of 5\n",
    "print(any_int_multiple_finder(my_array, 7))  # Multiples of 7\n",
    "print(any_int_multiple_finder(my_array, 9))  # Multiples of 9\n",
    "print(any_int_multiple_finder(my_array, 17))  # Multiples of 17"
   ]
  },
  {
   "cell_type": "markdown",
   "id": "88df7c51-0196-42b5-aabf-5068bc6ad675",
   "metadata": {},
   "source": [
    "In the section you took inspiration from, show all of the examples below. Follow good coding practices and give at least two test cases for each example. Don't forget comments! \\\n",
    "\\\n",
    "*For my example, I took inspiration from **NumPy Creating Arrays** so I would show following examples with DIFFERENT test cases: Create a NumPy ndarray Object, Dimensions in Arrays ,0-D Arrays, 1-D Arrays, 2-D Arrays, 3-D Arrays, Check Number of Dimensions, Higher Dimensional Arrays.*"
   ]
  },
  {
   "cell_type": "code",
   "execution_count": 264,
   "id": "193b91b8-de1d-4aee-af90-6a0e10930b55",
   "metadata": {},
   "outputs": [
    {
     "name": "stdout",
     "output_type": "stream",
     "text": [
      "(array([3, 5, 6]),)\n",
      "(array([0]),)\n",
      "I test to find multiple numbers with 'and' but it gave error. Maybe there is some other way..\n",
      "\n",
      "(array([1, 3, 5, 7]),)\n",
      "(array([0, 2, 4, 6]),)\n",
      "Be careful not to confuse the element and its index. These arrays reflect INDICES of elements, not their actual values!\n"
     ]
    }
   ],
   "source": [
    "# Your code here\n",
    "\n",
    "# My examples are from the section: NumPy Array Search - Searching arrays\n",
    "# Key feature is the np.where function, which returns the array of index of elements that matches the condition I want.\n",
    "\n",
    "## Example 1. Searching for a specific number\n",
    "arr1 = np.array([1, 2, 3, 4, 5, 4, 4]) # Example array given\n",
    "search_4 = np.where(arr1 == 4)  # Search for number '4'\n",
    "print(search_4)\n",
    "search_1 = np.where(arr1 == 1)  # Search for number '1'\n",
    "print(search_1)\n",
    "print(\"I test to find multiple numbers with 'and' but it gave error. Maybe there is some other way..\\n\")\n",
    "\n",
    "\n",
    "## Example 2. Finding the index of even or odd numbers\n",
    "arr2 = np.array([1, 2, 3, 4, 5, 6, 7, 8]) # Example array given\n",
    "search_even = np.where(arr2%2 == 0)  # Search for even numbers\n",
    "print(search_even)\n",
    "search_odd = np.where(arr2%2 == 1)  # Search for odd numbers\n",
    "print(search_odd)\n",
    "print(\"Be careful not to confuse the element and its index. These arrays reflect INDICES of elements, not their actual values!\")"
   ]
  },
  {
   "cell_type": "markdown",
   "id": "c90148dc-cac4-4322-86ff-5b112bae306f",
   "metadata": {},
   "source": [
    "In 2-3 sentences, describe how your function took inspiration from a section.\\\n",
    "\\\n",
    "*For my example, `make_multi_dimensional_array`, I would talk about the **NumPy Creating Arrays** section and how I took inspiration from the example **Higher Dimensional Arrays**.*"
   ]
  },
  {
   "cell_type": "code",
   "execution_count": 265,
   "id": "fe11ac2d-dcdb-4e51-9460-c3cc1be48bef",
   "metadata": {},
   "outputs": [],
   "source": [
    "# Your comment here\n",
    "\n",
    "# For my example, any_int_multiple_finder, was inspired by the fact that we can set the condition with respect to any number.\n",
    "# So it does not have to be only 2, but also can be 3.\n",
    "# Furthermore, we can actually make the number being diveded as a variable and make a whole function out of it!"
   ]
  },
  {
   "cell_type": "markdown",
   "id": "8a834fd4-ef1b-4464-a07a-76e08a1c81c8",
   "metadata": {},
   "source": [
    "# 2 Brianna's Module\n",
    "During lecture we created and worked with a module called `even_sum.py`. Import that module here. "
   ]
  },
  {
   "cell_type": "code",
   "execution_count": 266,
   "id": "66e2a829-e478-4c97-8412-846cd93161f8",
   "metadata": {},
   "outputs": [],
   "source": [
    "# Your code here\n",
    "\n",
    "import even_sum as es"
   ]
  },
  {
   "cell_type": "markdown",
   "id": "210ee2c2-9b81-4ea4-bbe7-2d1fa94d646e",
   "metadata": {},
   "source": [
    "Now that you have imported the module. Call the module and the first function with your own list of numbers. "
   ]
  },
  {
   "cell_type": "code",
   "execution_count": 267,
   "id": "89ad196d-5948-4e20-899a-d31eebdc4f2a",
   "metadata": {},
   "outputs": [
    {
     "name": "stdout",
     "output_type": "stream",
     "text": [
      "2550\n"
     ]
    }
   ],
   "source": [
    "# Your code here\n",
    "\n",
    "number_list = []  # This will be my list of numbers\n",
    "for i in range(1, 101):\n",
    "    number_list.append(i)\n",
    "# I have just made a list of numbers that contain integers from 1 to 100.\n",
    "\n",
    "# print(len(number_list))\n",
    "\n",
    "# Call the function from the imported module and print it\n",
    "print(es.sum_even_numbers(number_list))  # Matches with the expected result"
   ]
  },
  {
   "cell_type": "markdown",
   "id": "110d3cb8-b809-467b-9447-57810e4e3853",
   "metadata": {},
   "source": [
    "I have provided you a separate module called `example.py`. Import that module here."
   ]
  },
  {
   "cell_type": "code",
   "execution_count": 268,
   "id": "092eb2b9-dd15-4fdf-a7a2-ad32cd22ed88",
   "metadata": {},
   "outputs": [],
   "source": [
    "# Your code here\n",
    "\n",
    "import example as ex"
   ]
  },
  {
   "cell_type": "markdown",
   "id": "a6922f89-01e7-41af-82e2-4236daa103b1",
   "metadata": {},
   "source": [
    "With the following variables, use my module to show which of the rocket's escape!"
   ]
  },
  {
   "cell_type": "code",
   "execution_count": 269,
   "id": "6b2e8b39-8441-469a-a128-19b04b8c8a2f",
   "metadata": {},
   "outputs": [],
   "source": [
    "rocket_velocities = np.array([\n",
    "    [1000, 5000, 8000, 12000],  # Rocket 1's velocity at different times\n",
    "    [2000, 6000, 9000, 11000],  # Rocket 2 \"\n",
    "    [3000, 3100, 3200, 3300]    # Rocket 3 \"\n",
    "])\n",
    "\n",
    "mass_of_planet = 5.972e24 # kilograms\n",
    "radius_of_planet = 6.371e6 # meters"
   ]
  },
  {
   "cell_type": "code",
   "execution_count": 270,
   "id": "05196d65-9e31-4cec-ad01-9f9cebe00046",
   "metadata": {},
   "outputs": [
    {
     "name": "stdout",
     "output_type": "stream",
     "text": [
      "['Rocket left the planet!', 'Rocket is orbiting around the planet.', 'Rocket crashes back into the planet!']\n"
     ]
    }
   ],
   "source": [
    "# Your code here\n",
    "\n",
    "print(ex.rocket_launch(rocket_velocities, mass_of_planet, radius_of_planet))"
   ]
  },
  {
   "cell_type": "markdown",
   "id": "9ab3de38-dbd9-438f-a587-67e8777c9c93",
   "metadata": {},
   "source": [
    "In 2-3 sentences describe how this code follows \"good coding practices\" and where there is room for improvement."
   ]
  },
  {
   "cell_type": "code",
   "execution_count": 271,
   "id": "94d49892-e1c0-4e6a-b05d-f9ddf3de4b44",
   "metadata": {},
   "outputs": [],
   "source": [
    "# Your comments here\n",
    "\n",
    "# The names of variables were very detailed, so I could recognize what that variable mean in one site.\n",
    "# There were also detailed comments about what each functions would do, in terms of input and output.\n",
    "# Although every lines make sense to me, it would have been slightly better if every line of functions had comments about what this line does."
   ]
  },
  {
   "cell_type": "markdown",
   "id": "2dce5617-a86a-4327-aa99-f29548f3b92c",
   "metadata": {},
   "source": [
    "# 3 Your Turn!\n",
    "Now its your turn to make a module! Choose a topic from a class (could be physics, computer science, nuclear engineering, biology, astronomy, math, or an topic that interests you!) and build a module around it! Look at my module called `example.py` and base your structure around it. Your module NEEDS to include the following.\n",
    "\n",
    "Overall:\n",
    "1) Your module needs to use at least one NumPy function: https://numpy.org/devdocs/reference/routines.math.html\n",
    "2) Your module needs to contain a multi-dimensional array: https://numpy.org/devdocs/reference/arrays.ndarray.html \n",
    "3) Your module needs **at least** three functions that follow good coding practices.\n",
    "4) Inside your function, include comments. Don't forget to describe what the function is doing and what the inputs and outputs are.\n",
    "5) Your module needs either a `for` loop or `while` loop.\n",
    "6) Your module needs an `if`, `elif`, and `else` statement.\n",
    "7) Your module needs at least two assignment variables (`+=`, `*=`, etc).\n",
    "8) Creativity. *If it looks like you plugged this whole thing into ChatGPT, I will take off points. You can use ChatGPT to help you code, but you can't use it to just do your homework for you. That's no fun :(*\n",
    "\n",
    "In 2-3 sentences, describe the topic of your module and its capabilities. "
   ]
  },
  {
   "cell_type": "code",
   "execution_count": 272,
   "id": "0db7310e-b286-4ce7-aa0b-c211e243b7d6",
   "metadata": {},
   "outputs": [],
   "source": [
    "# Your comment here\n",
    "\n",
    "# My module, special_relativity.py is a module that contains various types of useful functions in a special relativity.\n",
    "# It can calculate the Lorentz factor of an object traveling in some speed v by calling a function lorentz_factor.\n",
    "# Also using that result, it can calculate another important quantities like time dilation and length contraction.\n",
    "# Furthermore, it can do a Lorentz boost with any given 4-vector!"
   ]
  },
  {
   "cell_type": "markdown",
   "id": "f9ec7fbd-1d6d-4c08-8528-e9cdaa7e3f6b",
   "metadata": {},
   "source": [
    "In 2-3 sentences, answer the following. What was the most challenging part of building this module? What did you learn in the process that you can apply to future coding assignments?"
   ]
  },
  {
   "cell_type": "code",
   "execution_count": 273,
   "id": "19898c20-2adb-4011-b95e-1da864f7801a",
   "metadata": {},
   "outputs": [],
   "source": [
    "# Your comment here\n",
    "\n",
    "# Even though my module was in the same directory with this homework file, \n",
    "# just importing it did not update any changes to my module at some point.\n",
    "# I asked GPT about this and solved the problem using the library called importlib.\n",
    "# This might help me in other aspect because I will be working on lot of modules and functions for my ULAB project (Dex's group)."
   ]
  },
  {
   "cell_type": "markdown",
   "id": "85e943ab-1036-46bc-b9fb-da4ab1890816",
   "metadata": {},
   "source": [
    "Once your module is complete, import it here."
   ]
  },
  {
   "cell_type": "code",
   "execution_count": 274,
   "id": "fb9821b1-3cc0-4999-97eb-441571bbd5e1",
   "metadata": {},
   "outputs": [
    {
     "data": {
      "text/plain": [
       "<module 'special_relativity' from '/Users/lee/ulab/ulab_keondong/homework7/special_relativity.py'>"
      ]
     },
     "execution_count": 274,
     "metadata": {},
     "output_type": "execute_result"
    }
   ],
   "source": [
    "# Your code here\n",
    "# Because I had some problem with loading my module contents, \n",
    "# I had no choice but to ask GPT and solved the problem by importing the following:\n",
    "import importlib\n",
    "import special_relativity as sr\n",
    "importlib.reload(special_relativity)"
   ]
  },
  {
   "cell_type": "markdown",
   "id": "ac42ebd4-e51b-4be4-aaa7-6c7d550abd30",
   "metadata": {},
   "source": [
    "Call each of your functions in the cell below. Make sure to show the outputs! "
   ]
  },
  {
   "cell_type": "code",
   "execution_count": 275,
   "id": "b63d3d1f-64bd-4dc7-b20f-c562d09c7c92",
   "metadata": {},
   "outputs": [
    {
     "name": "stdout",
     "output_type": "stream",
     "text": [
      "For a particle with speed 285000000m/s, its Lorentz factor is 3.2026.\n",
      "\n",
      "Due to its relativistic motion, it observed its own decay time to be longer, from 1.8µs to 5.7647µs.\n",
      "\n",
      "Due to the same reason, its distance travelled contracts from 10km to 3.1225km.\n",
      "\n",
      "For a specific object which has [1.8, 10, 2, 3] four-vector and speed 285000000, its lorentz boost gives [-25, 27, 2, 3].\n"
     ]
    }
   ],
   "source": [
    "# Your code here\n",
    "\n",
    "# Consider a particle (say, muon) that has the following attribute:\n",
    "speed = 285000000 # in m s^-1, about 0.95c where c is speed of light\n",
    "time_obsv = 1.8   # in µs, time interval observed for it to decay in the rest frame\n",
    "length_obsv = 10  # in km, distance travelled by it observed in the rest frame \n",
    "motion_vector = [time_obsv, length_obsv, 2, 3]  # Spacetime component and position vector\n",
    "\n",
    "\n",
    "# Lorentz factor of the particle\n",
    "print(f\"For a particle with speed {speed}m/s, its Lorentz factor is {sr.lorentz_factor(speed)}.\\n\")\n",
    "\n",
    "# Time dilation in the particle's frame\n",
    "print(f\"Due to its relativistic motion, it observed its own decay time to be longer, from {time_obsv}µs to {sr.time_dilation(time_obsv, speed)}µs.\\n\")\n",
    "\n",
    "# Length contraction in the particle's frame\n",
    "print(f\"Due to the same reason, its distance travelled contracts from {length_obsv}km to {sr.length_contraction(length_obsv, speed)}km.\\n\")\n",
    "\n",
    "# Lorentz boost to the particle's frame\n",
    "print(f\"For a specific object which has {motion_vector} four-vector and speed {speed}, its lorentz boost gives {sr.lorentz_boost(motion_vector, speed)}.\")  \n",
    "# The result should be different because it also considers relationship of spacetime"
   ]
  },
  {
   "cell_type": "markdown",
   "id": "8cf33b19-9bca-484e-8129-d8a4896a1bfa",
   "metadata": {},
   "source": [
    "# 4 Proper Submission\n",
    "To recieve full credit for this assignment make sure you do the following:\n",
    "\n",
    "1) Copy this homework assignment from the `ulab_2024` repository into **YOUR** local `homework7` branch. It will contain this notebook and an additional file called `example.py`. \n",
    "   \n",
    "2) Follow the tasks. Make sure to run all the cells so that **all** output is visible. You will get points taken off if your ouputs are not shown!\n",
    "\n",
    "3) Add/commit/push this notebook and **ANY** modules (so you should have `example.py` and your module) used in this homework assignment to your remote `homework7` branch. Make sure to have NOTHING else in your branch (i.e. no previous homeworks or lecture notes).\n",
    "\n",
    "4) Do the following:\n",
    "- Take a screenshot of moving **into or out** of your `homework7` brach, call it `hw7_branch`.\n",
    "- Take a screenshot of calling `ls` in your `homework7` branch, it should only contain items relevent to homework 7, call it `hw7_ls`.\n",
    "- Take a screenshot of adding this assignment to your local `homework7` branch, call it `hw7_add`.\n",
    "- Take a screenshot of committing this assignment to your local `homework7` branch, call it `hw7_commit`.\n",
    "- Take a screenshot of pushing this assignment to your remote `homework7` branch, call it `hw7_push`. \n",
    "\n",
    "6) Include these screenshots in your `homework7` branch. Upload your `homework7` branch to Gradescope!"
   ]
  },
  {
   "cell_type": "code",
   "execution_count": null,
   "id": "aad90f5e-816a-4c5d-ad0a-b1c4d618394b",
   "metadata": {},
   "outputs": [],
   "source": []
  }
 ],
 "metadata": {
  "kernelspec": {
   "display_name": "Python 3 (ipykernel)",
   "language": "python",
   "name": "python3"
  },
  "language_info": {
   "codemirror_mode": {
    "name": "ipython",
    "version": 3
   },
   "file_extension": ".py",
   "mimetype": "text/x-python",
   "name": "python",
   "nbconvert_exporter": "python",
   "pygments_lexer": "ipython3",
   "version": "3.10.4"
  }
 },
 "nbformat": 4,
 "nbformat_minor": 5
}
