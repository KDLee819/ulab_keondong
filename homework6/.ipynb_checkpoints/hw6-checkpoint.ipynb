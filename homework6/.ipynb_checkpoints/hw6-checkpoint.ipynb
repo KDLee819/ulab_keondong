{
 "cells": [
  {
   "cell_type": "markdown",
   "id": "21a1f0d2-d75c-4443-b816-1d1db3760454",
   "metadata": {},
   "source": [
    "# HW 6 - Iterables\n",
    "ULAB - Physics and Astronomy Division \\\n",
    "Due **Wednesday, October 30th, 2024 at 11:59pm** on Gradescope\n",
    "\n",
    "### REMINDER: Once you are done with this homework, make sure to include a screenshot of you pushing this notebook inside of your homework6 branch. Make sure to include this screenshot in your branch before submitting to Gradescope!\n",
    "\n",
    "### If there is no screenshot, then you will recieve a zero! \n",
    "\n",
    "General Tip (so you don't get silly points taken off):\n",
    "- Make sure **each function** follows good coding practices (i.e. a comment, detailed names, different steps on each line, etc)."
   ]
  },
  {
   "cell_type": "markdown",
   "id": "8dc7e46b-1e8e-486c-a2e9-d615c687028b",
   "metadata": {},
   "source": [
    "# 1 Lists\n",
    "\n",
    "## 1.1 List Slicing and Striding\n",
    "Write a **function** that takes in a list of integers and returns:\n",
    "\n",
    "- the first 5 elements\n",
    "- the last 5 elements\n",
    "- every 2nd element in the list\n",
    "- the list in reverse order.\n",
    "\n",
    "Use the test case below, along with two other ones (that you make-up):\n",
    "\n",
    "```\n",
    "list = [1, 2, 3, 4, 5, 6, 7, 8, 9, 10, 11, 12, 14, 15, 16, 17, 18, 19, 20]\n",
    "```"
   ]
  },
  {
   "cell_type": "code",
   "execution_count": 82,
   "id": "08dabd73-3dbc-4aab-843a-d4b81102835d",
   "metadata": {},
   "outputs": [
    {
     "name": "stdout",
     "output_type": "stream",
     "text": [
      "Function that returns first five elements of a list:\n",
      "[1, 2, 3, 4, 5]\n",
      "[0, 4, 8, 12, 16]\n",
      "[5, 10, 15, 20, 25]\n",
      "\n",
      "Function that returns last five elements of a list:\n",
      "[16, 17, 18, 19, 20]\n",
      "[8, 12, 16, 20, 24]\n",
      "[65, 70, 75, 80, 85]\n",
      "\n",
      "Function that returns every second elements of a list:\n",
      "[1, 3, 5, 7, 9, 11, 14, 16, 18, 20]\n",
      "[0, 8, 16, 24]\n",
      "[5, 15, 25, 35, 45, 55, 65, 75, 85]\n",
      "\n",
      "Function that returns the reverse of a list:\n",
      "[20, 19, 18, 17, 16, 15, 14, 12, 11, 10, 9, 8, 7, 6, 5, 4, 3, 2, 1]\n",
      "[24, 20, 16, 12, 8, 4, 0]\n",
      "[85, 80, 75, 70, 65, 60, 55, 50, 45, 40, 35, 30, 25, 20, 15, 10, 5]\n",
      "\n",
      "It works!\n"
     ]
    }
   ],
   "source": [
    "# Your code here for 1.1\n",
    "\n",
    "import numpy as np\n",
    "\n",
    "# These are the three lists that I will going to use:\n",
    "list_given = [1, 2, 3, 4, 5, 6, 7, 8, 9, 10, 11, 12, 14, 15, 16, 17, 18, 19, 20]\n",
    "list_made_1 = list(np.arange(0, 28, 4)) # I just made lists with constant difference with numpy\n",
    "list_made_2 = list(np.arange(5, 90, 5))\n",
    "\n",
    "\n",
    "## Define required functions\n",
    "\n",
    "# -Function that returns first five elements of a list\n",
    "def first_five(lists):\n",
    "\n",
    "    # Slicing starts from index 0 and ends at 4\n",
    "    return lists[:5]\n",
    "\n",
    "# This is the verification of my function using the three lists:\n",
    "print(\"Function that returns first five elements of a list:\")\n",
    "print(first_five(list_given))\n",
    "print(first_five(list_made_1))\n",
    "print(first_five(list_made_2))\n",
    "\n",
    "\n",
    "# -Function that returns last five elements of a list\n",
    "def last_five(lists):\n",
    "\n",
    "    # Slicing starts from index -5 which is the fifth last element and ends at the end\n",
    "    return lists[-5:]\n",
    "\n",
    "# This is the verification of my function using the three lists:\n",
    "print(\"\\nFunction that returns last five elements of a list:\")\n",
    "print(last_five(list_given))\n",
    "print(last_five(list_made_1))\n",
    "print(last_five(list_made_2))\n",
    "\n",
    "# -Function that returns every second elements of a list\n",
    "def every_second_element(lists):\n",
    "\n",
    "    # Slicing with two steps\n",
    "    return lists[::2]\n",
    "\n",
    "\n",
    "# This is the verification of my function using the three lists:\n",
    "print(\"\\nFunction that returns every second elements of a list:\")\n",
    "print(every_second_element(list_given))\n",
    "print(every_second_element(list_made_1))\n",
    "print(every_second_element(list_made_2))\n",
    "\n",
    "# -Function that returns the reverse of a list\n",
    "def reverse_of(lists):\n",
    "\n",
    "    # Slicing with step of -1, which means with reverse order\n",
    "    return lists[::-1]\n",
    "\n",
    "\n",
    "# This is the verification of my function using the three lists:\n",
    "print(\"\\nFunction that returns the reverse of a list:\")\n",
    "print(reverse_of(list_given))\n",
    "print(reverse_of(list_made_1))\n",
    "print(reverse_of(list_made_2))\n",
    "\n",
    "print(\"\\nIt works!\")"
   ]
  },
  {
   "cell_type": "markdown",
   "id": "92c77920-20fc-455e-bf52-10b5a518ed2d",
   "metadata": {},
   "source": [
    "## 1.2 Iterating Over Lists with For Loops\n",
    "Write a **function** that takes in a list, with a **for** loop to return: \n",
    "- the square of each number in the list\n",
    "- the cube of each even number in the list\n",
    "\n",
    "Use the test case below, along with two other ones (that you make-up):\n",
    "\n",
    "```\n",
    "list = [1, 2, 3, 4, 5, 6]\n",
    "```"
   ]
  },
  {
   "cell_type": "code",
   "execution_count": 83,
   "id": "5054c807-a247-4159-9ce1-43020bcc3000",
   "metadata": {},
   "outputs": [
    {
     "name": "stdout",
     "output_type": "stream",
     "text": [
      "Function that returns square of the elements of a list:\n",
      "[1, 4, 9, 16, 25, 36]\n",
      "[0, 9, 36, 81, 144, 225, 324, 441, 576, 729]\n",
      "[100, 729, 1936, 3721, 6084]\n",
      "\n",
      "Function that returns cube of its even elements of a list:\n",
      "[8, 64, 216]\n",
      "[0, 216, 1728, 5832, 13824]\n",
      "[1000, 85184, 474552]\n",
      "\n",
      "It works!\n"
     ]
    }
   ],
   "source": [
    "# Your code here for 1.2\n",
    "\n",
    "import numpy as np\n",
    "\n",
    "# These are the three lists that I will going to use:\n",
    "list_given = [1, 2, 3, 4, 5, 6]\n",
    "list_made_1 = list(np.arange(0, 30, 3)) # I just made lists with constant difference with numpy\n",
    "list_made_2 = list(np.arange(10, 90, 17))\n",
    "\n",
    "\n",
    "## Define required functions\n",
    "\n",
    "# -Function that returns each element squared of a list\n",
    "def element_squared(lists):\n",
    "    # This is a list that will store processes values\n",
    "    squared_list = []\n",
    "\n",
    "    # Append all the numbers' squares to the empty list\n",
    "    for numbers in lists:\n",
    "        squared_list.append(numbers**2)\n",
    "\n",
    "    # Return the list when finishing the iteration\n",
    "    return squared_list\n",
    "\n",
    "# This is the verification of my function using the three lists:\n",
    "print(\"Function that returns square of the elements of a list:\")\n",
    "print(element_squared(list_given))\n",
    "print(element_squared(list_made_1))\n",
    "print(element_squared(list_made_2))\n",
    "\n",
    "\n",
    "# -Function that returns cube of even elements of a list\n",
    "def cube_of_even(lists):\n",
    "    # This is a list that will store processes values\n",
    "    cubed_even_list = []\n",
    "\n",
    "    # Append the numbers' cube to the empty list, ONLY when the number is even\n",
    "    for numbers in lists:\n",
    "        if numbers % 2 == 0:\n",
    "            cubed_even_list.append(numbers**3)\n",
    "        else:\n",
    "            continue\n",
    "            \n",
    "    # Return the list when finishing the iteration\n",
    "    return cubed_even_list\n",
    "\n",
    "# This is the verification of my function using the three lists:\n",
    "print(\"\\nFunction that returns cube of its even elements of a list:\")\n",
    "print(cube_of_even(list_given))\n",
    "print(cube_of_even(list_made_1))\n",
    "print(cube_of_even(list_made_2))\n",
    "\n",
    "print(\"\\nIt works!\")"
   ]
  },
  {
   "cell_type": "markdown",
   "id": "e2e075da-c004-400d-b796-5435e096816d",
   "metadata": {},
   "source": [
    "# 2 Dictionaries\n",
    "We have not fully covered **dictionaries** in class, but a **dictionary** is a collection of key-value pairs. Each key is unique and is associated with a specific value. Like a real dictionary! \n",
    "\n",
    "You can create a dictionary by placing key-value pairs inside of curly brackets `{}` with a `:` separating the key from the value. \n",
    "\n",
    "Run the cell below for an example:"
   ]
  },
  {
   "cell_type": "code",
   "execution_count": 84,
   "id": "dbdb0f41-4f57-4524-ab51-ff1fc502bdfc",
   "metadata": {},
   "outputs": [
    {
     "name": "stdout",
     "output_type": "stream",
     "text": [
      "{'Mercury': 0.39, 'Venus': 0.72, 'Earth': 1.0, 'Mars': 1.52, 'Jupiter': 5.2, 'Saturn': 9.58, 'Uranus': 19.22, 'Neptune': 30.05}\n"
     ]
    }
   ],
   "source": [
    "# A dictionary that contains some data about the planets in our solar system\n",
    "planet_data = {\n",
    "    \"Mercury\": 0.39, \n",
    "    \"Venus\": 0.72,\n",
    "    \"Earth\": 1.00, # distance from the Sun in AU\n",
    "    \"Mars\": 1.52,\n",
    "    \"Jupiter\": 5.20,\n",
    "    \"Saturn\": 9.58,\n",
    "    \"Uranus\": 19.22,\n",
    "    \"Neptune\": 30.05\n",
    "}   \n",
    "\n",
    "print(planet_data) # print the dictonary"
   ]
  },
  {
   "cell_type": "markdown",
   "id": "886c93f4-0027-4969-ba67-cc12eca04c9c",
   "metadata": {},
   "source": [
    "## 2.1 Looping through a dictionary\n",
    "Write a function that takes in the `planet_data` dictionary and uses a `for` loop to print the names of each of the planets and its distance from the sun."
   ]
  },
  {
   "cell_type": "code",
   "execution_count": 85,
   "id": "a3ab065a-42f5-4aa0-8e0f-38e87c583464",
   "metadata": {},
   "outputs": [
    {
     "name": "stdout",
     "output_type": "stream",
     "text": [
      "Mercury\n",
      "Venus\n",
      "Earth\n",
      "Mars\n",
      "Jupiter\n",
      "Saturn\n",
      "Uranus\n",
      "Neptune\n"
     ]
    }
   ],
   "source": [
    "# Your code here for 2.1\n",
    "\n",
    "## Function that prints the names of each planets in a dictionary\n",
    "\n",
    "def planet_name_printer(dictionary):\n",
    "    for planets in dictionary:\n",
    "        print(planets)\n",
    "\n",
    "planet_name_printer(planet_data)"
   ]
  },
  {
   "cell_type": "markdown",
   "id": "2b38b6fb-ce68-4f20-a8a1-ba241e8db53e",
   "metadata": {},
   "source": [
    "## 2.2 Dictionaries and Conditionals\n",
    "Write a function that uses a while loop to print all the planets that are a minimum distance of 5 AU from the Sun. "
   ]
  },
  {
   "cell_type": "code",
   "execution_count": 86,
   "id": "6e07cf13-efba-4a75-ad75-0428dc31108d",
   "metadata": {},
   "outputs": [
    {
     "ename": "SyntaxError",
     "evalue": "invalid syntax (3733264340.py, line 9)",
     "output_type": "error",
     "traceback": [
      "\u001b[0;36m  Cell \u001b[0;32mIn[86], line 9\u001b[0;36m\u001b[0m\n\u001b[0;31m    if\u001b[0m\n\u001b[0m       ^\u001b[0m\n\u001b[0;31mSyntaxError\u001b[0m\u001b[0;31m:\u001b[0m invalid syntax\n"
     ]
    }
   ],
   "source": [
    "# Your code here for 2.2\n",
    "\n",
    "## Function that prints all planets which are further than 5 AU from the Sun\n",
    "\n",
    "def planets_further_than_5AU(dictionary):\n",
    "    # Define dummy variable\n",
    "    i = 1\n",
    "    \n",
    "    while i <= len(dictionary):\n",
    "        if value in dictionary >= 5:\n",
    "            print(\n",
    "    return \n",
    "\n",
    "planets_further_than_5AU(planet_data)"
   ]
  },
  {
   "cell_type": "markdown",
   "id": "5e1ba0c0-5dd9-44e8-895c-73a36d614949",
   "metadata": {},
   "source": [
    "# 3 Observing Stars in a Cluster\n",
    "Your goal is to calculate the total brightness of a group of stars in a star cluster and estimate how long it would take for a telescope to observe each star, depending on their brightness (magnitude). Here is some background information:\n",
    "- The brightness of a star, from a telescope, is measured by its **apparent magnitude**, a LOWER magnitude means a brighter star. A HIGHER magnitude means a fainter star. So a 4th magnitude star is much brighter than a 17th magnitude star.\n",
    "- To convert magnitude into brightness, use the following formula\n",
    "$$\n",
    "\\text{Brightness} = 10^{-\\frac{\\text{magnitude}}{2.5}}\n",
    "$$\n",
    "\n",
    "Use this list of magnitudes and time limit:\n",
    "\n",
    "```\n",
    "magnitudes = [12.5, 13.2, 14.8, 19.1, 21.0, 18.5, 15.3, 10.5, 23.0]\n",
    "time_limit = *500000* seconds!\n",
    "```\n",
    "\n",
    "Expected outcome (your solutions with be the answers to the ???):\n",
    "- Total brightness of the stars: ???\n",
    "- Total observation time for all observable stars: ???\n",
    "- Number of stars that can be observed within 500 seconds: ???"
   ]
  },
  {
   "cell_type": "markdown",
   "id": "336785a7-71bf-434d-982c-dd72dd29cf71",
   "metadata": {},
   "source": [
    "## 3.1 Calculate Brightness\n",
    "1) Write a **function** which inputs a list of star magnitudes (brightnesses).\n",
    "2) Inside your function, use a `for` loop to calculate (with the given formula) the brightness of each star.\n",
    "3) Inside your function, use a `for` loop to sum up the total brightness of all the stars.\n",
    "5) Have your function return the **total brightness** of all the stars and a **list of the brightnesses** of the stars.\n",
    "6) Test out your function with the **given** magnitude values."
   ]
  },
  {
   "cell_type": "code",
   "execution_count": 96,
   "id": "ccc331f4-c029-4a82-810b-4a78d0fa1a2a",
   "metadata": {},
   "outputs": [
    {
     "name": "stdout",
     "output_type": "stream",
     "text": [
      "Total brightness of all the stars is: 8.0373e-05\n",
      "List of the brightness of the stars is the following: [1e-05, 5.248e-06, 1.202e-06, 2.3e-08, 4e-09, 4e-08, 7.59e-07, 6.3096e-05, 1e-09]\n"
     ]
    }
   ],
   "source": [
    "# Your code here for 3.1\n",
    "\n",
    "magnitudes = [12.5, 13.2, 14.8, 19.1, 21.0, 18.5, 15.3, 10.5, 23.0]\n",
    "time_limit = 5000000\n",
    "\n",
    "# 1. Function that finds total brightness with input of magnitudes list\n",
    "def brightness_analysis(mag_list):\n",
    "    \n",
    "    # 2. For loop that calculates brightness of each star\n",
    "    brightness_list = []\n",
    "    for magnitudes in mag_list:\n",
    "        # Sub brightness formula\n",
    "        brightness = 10**(-magnitudes/2.5)\n",
    "        \n",
    "        # print(brightness)\n",
    "        brightness_list.append(round(brightness, 9))\n",
    "        \n",
    "    # 3. Start with total sum of brightness = 0\n",
    "    total_brightness = 0\n",
    "    for values in brightness_list:\n",
    "        total_brightness += values\n",
    "\n",
    "    # 4. Return list of brightness and total brightness\n",
    "    return round(total_brightness, 9), brightness_list\n",
    "\n",
    "# 5. Testing my function with given list\n",
    "total, brightness_list = brightness_analysis(magnitudes)\n",
    "print(f\"Total brightness of all the stars is: {total}\")\n",
    "print(f\"List of the brightness of the stars is the following: {brightness_list}\")"
   ]
  },
  {
   "cell_type": "markdown",
   "id": "9aff0e1c-9f88-4ebb-a05b-d39363d9e88e",
   "metadata": {},
   "source": [
    "## 3.2 Observation Time\n",
    "1) Write a **function** which inputs a list of star magnitudes (brightnesses).\n",
    "2) Inside your function, use a `for` loop to calculate the time to observe each star.\n",
    "- You can just assume each star's observation time is inversely proportional to its brightness with the following formula:\n",
    "\n",
    "$$\n",
    "\\text{Observation Time (in seconds)} \\propto \\frac{1}{\\text{Brightness}} \n",
    "$$\n",
    "\n",
    "3) Inside you function, write a `condition` that ignores stars that have a magnitude greater than 20 (very very faint stars).\n",
    "4) Have your function return the **total observation time** (ignoring >20 magnitudes) and a **list of the times** it would take to observe each individual star.\n",
    "5) Test out your function with the **given** magnitude values."
   ]
  },
  {
   "cell_type": "code",
   "execution_count": 104,
   "id": "044d17cf-82a8-44b6-8958-447632f713f6",
   "metadata": {},
   "outputs": [
    {
     "name": "stdout",
     "output_type": "stream",
     "text": [
      "Total time taken to observe all the stars is: 1320940000.0\n",
      "List of the time taken to observe the stars with significant brightness is the following: [100000.0, 190000.0, 830000.0, 43480000.0, 250000000.0, 25000000.0, 1320000.0, 20000.0, 1000000000.0]\n"
     ]
    }
   ],
   "source": [
    "# Your code here for 3.2\n",
    "\n",
    "# 1. Function that finds observation time with input of magnitudes list\n",
    "def observation_time_analysis(mag_list):\n",
    "\n",
    "    # 2. Find time to observe each star\n",
    "    # Let's use the value of brightness we found in previous section\n",
    "    times_list = []\n",
    "    for values in brightness_list:\n",
    "        \n",
    "        # 3. If value of the brightness is greater than 20, do not append\n",
    "        condition = values > 20\n",
    "        \n",
    "        if condition == True:\n",
    "            continue\n",
    "        else:\n",
    "            times_list.append(round(1/values, -4))\n",
    "\n",
    "    # 4. Calculate total time taken to observe\n",
    "    total_observe_time = 0\n",
    "    for times in times_list:\n",
    "        total_observe_time += times\n",
    "\n",
    "    # Return the total time taken and list of times\n",
    "    return round(total_observe_time, -4), times_list\n",
    "\n",
    "# 5. Testing my function with given list\n",
    "total_time, times_list = observation_time_analysis(magnitudes)\n",
    "print(f\"Total time taken to observe all the stars is: {total_time}\")\n",
    "print(f\"List of the time taken to observe the stars with significant brightness is the following: {times_list}\")"
   ]
  },
  {
   "cell_type": "markdown",
   "id": "102d3c15-0b4f-48a7-8fdc-f896c1841aca",
   "metadata": {},
   "source": [
    "## 3.3 Time Until the Limit\n",
    "1) Write a **function** which inputs a list of star magnitudes (brightnesses) and time limit.\n",
    "   - Make your time limit a default argument.\n",
    "2) Inside your function, make a counter called `total time` and set it to 0.\n",
    "3) Inside your function, use a `while` loop to set the time limit of your observation.\n",
    "4) Inside your function, use assigment operators to update the `total time` observed. \n",
    "5) Inside your function, use a `condition` to skip stars with magnitude 20 or greater. \n",
    "6) Have your function return the **number of stars that can be observed** within the time limit and **how long the observation will take** (this should be less than the time limit).\n",
    "7) Test out your function with the **given** magnitude values and time limit."
   ]
  },
  {
   "cell_type": "code",
   "execution_count": 106,
   "id": "5a541a62-0903-41bd-91c9-ee21172069a3",
   "metadata": {},
   "outputs": [],
   "source": [
    "# Your code here for 3.3\n",
    "\n",
    "# 1. Function that takes list of magnitudes and time limit (default argument)\n",
    "def numberof_stars_observed(mag_list, time_taken = time_limit):\n",
    "\n",
    "    # 2. Make a ounter called total time, set to 0 initially\n",
    "    total_time = 0\n",
    "\n",
    "    # 3. Construct a while loop to set the time limit\n",
    "    while total_time <= time_taken:\n",
    "        "
   ]
  },
  {
   "cell_type": "markdown",
   "id": "d2ab246f-9570-483e-b35b-cf1056f20936",
   "metadata": {},
   "source": [
    "## 3.4 Call Upon Your Functions\n",
    "You do not need to rewrite your functions once you have written them! That's what is so awesome about **functions**! \n",
    "\n",
    "1) With a new test case (different magnitudes and time limit) call your three functions you wrote above.\n",
    "2) Print out their return statements, example:\n",
    "\n",
    "```\n",
    ">>> my_return = my_function(my_argument):\n",
    ">>> print(my_return)\n",
    "```"
   ]
  },
  {
   "cell_type": "code",
   "execution_count": null,
   "id": "4c4c9389-04f5-49bc-823c-a12d6c003b60",
   "metadata": {},
   "outputs": [],
   "source": [
    "# Your code here for 3.4"
   ]
  },
  {
   "cell_type": "markdown",
   "id": "daba92d4-a646-4efc-824d-85b52ea3c573",
   "metadata": {},
   "source": [
    "# 4 Debug the Quadratic Function!\n",
    "The code below does not follow proper coding hygiene (good coding sklls) and is riddled with bugs! Answer the following question and follow the steps below:\n",
    "1) When you run the cell, what is the first error you get? What does this mean? What are three other things wrong with this function?\n",
    "2) Fix the bugs! No importing packages.\n",
    "3) Rewrite the code, such that it follows \"good coding skills\".\n",
    "\n",
    "Try out the test case of `a = 2`, `b = -5` and `c = 3`. You should get `(1.5, 1.0)`. Try out your own test case as well."
   ]
  },
  {
   "cell_type": "code",
   "execution_count": null,
   "id": "cd66dd28-f8d3-447c-8d20-ff3e31bfaa07",
   "metadata": {},
   "outputs": [],
   "source": [
    "def q_f(a, b = [1, 10, -5], c = \"three\"):\n",
    "    new_b = b[0]\n",
    "    bottom = two * a\n",
    "    a = 2\n",
    "    bottom = 2a\n",
    "    while bottom != 0:\n",
    "        print(\"\n",
    "    pos_answer == (-b + (b*2 - 4 * a * c)**(1/2)) / bottom \n",
    "    neg_answer = (-b - (b**2 - 44 * a * c)**(1/2)) // bottom\n",
    "    neg_answer = -(pos_answer) \n",
    "    \n",
    "    return [(max(neg_answer), min(pos_answer)) for i in range(55)]"
   ]
  },
  {
   "cell_type": "markdown",
   "id": "8cf33b19-9bca-484e-8129-d8a4896a1bfa",
   "metadata": {},
   "source": [
    "# 5 Proper Submission\n",
    "To recieve full credit for this assignment make sure you do the following:\n",
    "1) Copy this jupter notebook from the `ulab_2024` repository into **YOUR** local `homework` branch.\n",
    "   \n",
    "3) Follow the tasks. Make sure to run all the cells so that all output is visible.\n",
    "   \n",
    "5) Push this notebook to your remote `homework6` branch. Refer to the lecture slides for more information.\n",
    "      \n",
    "6) **WARNING!! IF YOU DO NOT FOLLOW THIS STEP YOU WILL RECIEVE A ZERO!**\n",
    "   1) Take a screenshot of your command line when you `push` this notebook from your local `homework6` branch to your remote `homework6` branch. Make sure to prove that you are inside a branch besides `main` or `master` by calling `git branch` and make sure to prove that your `homework6` branch only contains the homework4 folder of Jupyter Notebook you copied over from `ulab_2024` (which can be done by calling `ls`). You could also call `git status` before/after as a way to prove you pushed the proper files to the correct branches.\n",
    "   2)  Include that screenshot in your remote branch when you upload your GitHub branch to Gradescope!"
   ]
  },
  {
   "cell_type": "code",
   "execution_count": null,
   "id": "b0926042-d1cf-4a2e-8fc8-d93395a6a7cf",
   "metadata": {},
   "outputs": [],
   "source": []
  }
 ],
 "metadata": {
  "kernelspec": {
   "display_name": "Python 3 (ipykernel)",
   "language": "python",
   "name": "python3"
  },
  "language_info": {
   "codemirror_mode": {
    "name": "ipython",
    "version": 3
   },
   "file_extension": ".py",
   "mimetype": "text/x-python",
   "name": "python",
   "nbconvert_exporter": "python",
   "pygments_lexer": "ipython3",
   "version": "3.10.4"
  }
 },
 "nbformat": 4,
 "nbformat_minor": 5
}
