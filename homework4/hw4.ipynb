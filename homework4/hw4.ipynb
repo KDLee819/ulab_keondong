{
 "cells": [
  {
   "cell_type": "markdown",
   "id": "21a1f0d2-d75c-4443-b816-1d1db3760454",
   "metadata": {},
   "source": [
    "# HW 4 - Functions \n",
    "ULAB - Physics and Astronomy Division \\\n",
    "Due **Wednesday, October 16th, 2024 at 11:59pm** on Gradescope\n",
    "\n",
    "### Once you are done with this homework, make sure to include a screenshot of you pushing this notebook inside of your homework4 branch. Make sure to include this screenshot in your branch before submitting to Gradescope!\n",
    "\n",
    "### If there is no screenshot, then you will recieve a zero! \n",
    "\n",
    "Hello ULAB! For this homework assigmnet you will continue practicing how Python handles variables, data types, functions, comments and operations! We will also touch on comments, naming conventions and hardcoding. The objective for this homework is to practice writing Python code in a structured and readable manner!\n",
    "\n",
    "Since data types were primarily covered during homework 3, we will not spend a lot of time reviewing them in this homework. Refer to Lecture #4 or ask the internet if you forget!"
   ]
  },
  {
   "cell_type": "markdown",
   "id": "8dc7e46b-1e8e-486c-a2e9-d615c687028b",
   "metadata": {},
   "source": [
    "# 1 Good Coding Practices and Debugging\n",
    "Make sure that you don't repeat any variable, function or argument names. Its a good practice to have unique names for each of these throughout an entire notebook or project! \n",
    "\n",
    "In the comment below include at least 3 bugs you ran into during this homework assignment. Give the error message, what the error message means (google it) and how you fixed the problem.  "
   ]
  },
  {
   "cell_type": "code",
   "execution_count": 81,
   "id": "08dabd73-3dbc-4aab-843a-d4b81102835d",
   "metadata": {},
   "outputs": [],
   "source": [
    "# Your comments here\n",
    "\n",
    "# ModuleNotFoundError                       Traceback (most recent call last)\n",
    "# Cell In[10], line 19\n",
    "#      13     return [sum, dif, prd, divn, divf, rmd, pwr]\n",
    "#      14     # Reterns a list which has the x, y operational values as its elements\n",
    "#      15 \n",
    "#      16 \n",
    "#      17 # Below are some test cases of my function\n",
    "# ---> 19 import math.pi as π\n",
    "#      20 import math.e as e\n",
    "#      22 print(arith_opr(10, 3), \"\\n\")\n",
    "\n",
    "# ModuleNotFoundError: No module named 'math.pi'; 'math' is not a package\n",
    "\n",
    "## I tried to import π and e from math, but I did not state the module name explicitly, but only stated its package, math.pi.\n",
    "## Therefore, python could not import a module, which showed the error message. I fixed this by just writing import math instead.\n",
    "\n",
    "\n",
    "\n",
    "# ZeroDivisionError                         Traceback (most recent call last)\n",
    "# Cell In[12], line 25\n",
    "#      23 print(arith_opr(1, 9801), \"\\n\")\n",
    "#      24 print(arith_opr(math.pi, math.e), \"\\n\") # Why the floor division value 1.0 for π/e ?\n",
    "# ---> 25 print(arith_opr(1, 0), \"\\n\")\n",
    "\n",
    "# Cell In[12], line 8, in arith_opr(x, y)\n",
    "#       6 dif = x - y     # Difference of x, y ... order matters!\n",
    "#       7 prd = x * y     # Product of x, y\n",
    "# ----> 8 divn = x / y    # Normal division of x by y which returns float\n",
    "#       9 divf = x // y   # Floor division of x by y which deletes numbers after float\n",
    "#      10 rmd = x % y     # Remainder of x / y\n",
    "\n",
    "# ZeroDivisionError: division by zero\n",
    "\n",
    "## Divided 1 by 0 for curiosity but it indeed returned error. Solved by replacing 0 with another number.\n",
    "\n",
    "\n",
    "# Cell In[44], line 54\n",
    "#     type(is_prime(0)\n",
    "#                     ^\n",
    "# SyntaxError: incomplete input\n",
    "\n",
    "## Forgot to close the parenthesis at the end of the print function. Solved by simply adding a paranthesis"
   ]
  },
  {
   "cell_type": "markdown",
   "id": "5e1ba0c0-5dd9-44e8-895c-73a36d614949",
   "metadata": {},
   "source": [
    "# 2 Arithmetic Operations\n",
    "**Arithmetic Operations** allow you to perform mathematical calculations inside of Python (just like a calculator).  "
   ]
  },
  {
   "cell_type": "markdown",
   "id": "ef6d2845-2d80-4517-aa70-0e0b2d9e7882",
   "metadata": {},
   "source": [
    "## 2.1 Arithmetic Function\n",
    "Write a function called that takes two numbers (`a` and `b`) as arguments and returns a list or tuple with:\n",
    "\n",
    "- The sum of `a` and `b`\n",
    "- The difference when `b` is subtracted from `a`\n",
    "- The product of `a` and `b`\n",
    "- The division of `a` by `b` (normal division)\n",
    "- The floor division of `a` by `b`\n",
    "- The remainder when `a` is divided by `b`\n",
    "- `a` raised to the power of `b`\n",
    "\n",
    "Don't forget to include a comment describing what the function is doing! Use a different function name than me! And make sure to show multiple test cases (inputs), including the one I gave you (num_1 = 10, num_2 = 3).\n",
    "\n",
    "Example:\n",
    "\n",
    "```\n",
    ">>> def arithmetic_operations(num_1, num_2):\n",
    "...     # Your comment here\n",
    "...     # Your code here\n",
    "...     return # Your code here\n",
    "\n",
    ">>> a = 10\n",
    ">>> b = 3\n",
    ">>> operations = arithmetic_operations(num_1 = a, num_2 = b)\n",
    ">>> print(operations)\n",
    "\n",
    "(13, 7, 30, 3.3333333333333335, 3, 1, 1000) \n",
    "```"
   ]
  },
  {
   "cell_type": "code",
   "execution_count": 82,
   "id": "f8526535-a6a9-46be-83d3-658ad4500762",
   "metadata": {},
   "outputs": [
    {
     "name": "stdout",
     "output_type": "stream",
     "text": [
      "[13, 7, 30, 3.3333333333333335, 3, 1, 1000] \n",
      "\n",
      "[79, 71, 300, 18.75, 18, 3, 31640625] \n",
      "\n",
      "[9802, -9800, 9801, 0.00010203040506070809, 0, 1, 1] \n",
      "\n",
      "[5.859874482048838, 0.423310825130748, 8.539734222673566, 1.1557273497909217, 1.0, 0.423310825130748, 22.45915771836104] \n",
      "\n"
     ]
    }
   ],
   "source": [
    "# Your code here\n",
    "\n",
    "# Function which performs arithmetic operations of two values x, y\n",
    "def arith_opr(x,y): \n",
    "    sum = x + y     # Sum of x, y\n",
    "    dif = x - y     # Difference of x, y ... order matters!\n",
    "    prd = x * y     # Product of x, y\n",
    "    divn = x / y    # Normal division of x by y which returns float\n",
    "    divf = x // y   # Floor division of x by y which returns largest equal or lesser integer to the result\n",
    "    rmd = x % y     # Remainder of x / y\n",
    "    pwr = x ** y    # x raised to a power of y\n",
    "\n",
    "    return [sum, dif, prd, divn, divf, rmd, pwr]\n",
    "    # Reterns a list which has the x, y operational values as its elements\n",
    "\n",
    "\n",
    "# Below are some test cases of my function\n",
    "\n",
    "import math  # Doing this just because I am curious what happens if π raised to e\n",
    "\n",
    "print(arith_opr(10, 3), \"\\n\")\n",
    "print(arith_opr(75, 4), \"\\n\")\n",
    "print(arith_opr(1, 9801), \"\\n\")\n",
    "print(arith_opr(math.pi, math.e), \"\\n\") # Why the floor division value 1.0 for π/e ?"
   ]
  },
  {
   "cell_type": "markdown",
   "id": "9672e601-ce1a-4f2c-8de0-ce168ef0a12e",
   "metadata": {},
   "source": [
    "In the cell below (as a comment) describe your thinking process and how your function displays good *function writing processes* as described in lecture. Must be at least 2 sentences."
   ]
  },
  {
   "cell_type": "code",
   "execution_count": 83,
   "id": "b7eec35e-3263-4c40-a474-c0dfd924b764",
   "metadata": {},
   "outputs": [],
   "source": [
    "# Your thinking process and description here\n",
    "\n",
    "# I usually do not like setting variable names long. So, I tried to instead add detailed comments about each operations on the same line.\n",
    "# Also, I included all the operational results in a single list and returned the list in one statement which makes it short and sweet."
   ]
  },
  {
   "cell_type": "markdown",
   "id": "49eb4bc2-e109-46c7-8235-c53d269c358f",
   "metadata": {},
   "source": [
    "## 2.2 Increment by Five\n",
    "Write a function with assignment operators, that takes a number and returns the number incremented by 5 and multiplied by 3.\n",
    "\n",
    "Don't forget to include a comment describing what the function is doing! Use a different function name than me! And make sure to show multiple test cases (inputs), including the one I gave you (num_1 = 10).\n",
    "Example:\n",
    "```\n",
    ">>> def increment_and_multiply(num_1, num_2):\n",
    "...     # Your comment here\n",
    "...     # Your code here\n",
    "...     return # Your code here\n",
    "\n",
    ">>> x = 10\n",
    ">>> print(increment_by_5(x))\n",
    "60\n",
    "```"
   ]
  },
  {
   "cell_type": "code",
   "execution_count": 84,
   "id": "7de14ca3-65c2-463f-8345-529603368c0a",
   "metadata": {},
   "outputs": [
    {
     "name": "stdout",
     "output_type": "stream",
     "text": [
      "150 \n",
      "\n",
      "120 \n",
      "\n",
      "51 \n",
      "\n",
      "134.7 \n",
      "\n"
     ]
    }
   ],
   "source": [
    "# Your code here\n",
    "\n",
    "import random\n",
    "\n",
    "# This is a function that takes a number and returns x incremented by 5 and multiplied by 3\n",
    "def incr5_mult3(x):\n",
    "\n",
    "    # For fun, I want to make random steps of increments of 1~9 by 5 for each case!\n",
    "    incr = random.randint(1, 9)  # This is where assignment used\n",
    "    \n",
    "    # Increment FIRST and then multiply it by 3 to properly get the result.\n",
    "    result = (x + (5*incr)) * 3  # Also here is where assignment used.\n",
    "\n",
    "    return result\n",
    "    # return a result number\n",
    "\n",
    "\n",
    "# Below are some test cases of my function\n",
    "    \n",
    "print(incr5_mult3(10), \"\\n\")  # \"\\n\" included to display with gaps between lines\n",
    "print(incr5_mult3(0), \"\\n\")\n",
    "print(incr5_mult3(7), \"\\n\")\n",
    "print(incr5_mult3(9.9), \"\\n\")"
   ]
  },
  {
   "cell_type": "markdown",
   "id": "05c0bd02-7031-41b4-b598-178b883b9418",
   "metadata": {},
   "source": [
    "In the cell below (as a comment) describe your thinking process and the purpose of assignment operators. Must be at least 2 sentences."
   ]
  },
  {
   "cell_type": "code",
   "execution_count": 85,
   "id": "aba9e76c-4f39-4dd9-a533-457ac788b4d7",
   "metadata": {},
   "outputs": [],
   "source": [
    "# Your thinking process and response here\n",
    "\n",
    "# Again, I set the name of the function with abbreviation, but added detailed comments about each operations on the same line.\n",
    "# I added descriptive comments to all the lines I used, and included brief justification. \n",
    "# Assignment operators assign various types of values to variables e.g. integer, string, list, etc."
   ]
  },
  {
   "cell_type": "markdown",
   "id": "33b71724-2522-4ce9-8cb3-eb0ed6200d96",
   "metadata": {},
   "source": [
    "## 2.3 Setting a Range\n",
    "Write a function that takes in three arguments (x, low, high) and returns True if x is between low and high (inclusive), otherwise it returns False. Use comparison operator to check the three arguments!\n",
    "\n",
    "Don't forget to include a comment describing what the function is doing! And use a different function name than me!\n",
    "\n",
    "Example:\n",
    "```\n",
    ">>> def is_in_range(x, low, high):\n",
    "...     # Your comment here\n",
    "...     # Your code here\n",
    "...     return # Your code here\n",
    "\n",
    ">>> print(is_in_range(5, 1, 10))\n",
    "\n",
    "True\n",
    "\n",
    ">>> print(is_in_range(15, 1, 10))\n",
    "\n",
    "False\n",
    "```"
   ]
  },
  {
   "cell_type": "code",
   "execution_count": 86,
   "id": "6fccfc23-bb87-4390-9291-7f3269472573",
   "metadata": {},
   "outputs": [
    {
     "name": "stdout",
     "output_type": "stream",
     "text": [
      "True \n",
      "\n",
      "True \n",
      "\n",
      "False \n",
      "\n",
      "False \n",
      "\n"
     ]
    }
   ],
   "source": [
    "# Your code here\n",
    "\n",
    "# This is a function that performs a test of whether x is between low and high inclusive and returns the corresponding boolean.\n",
    "def test_between(x, low, high): \n",
    "\n",
    "    # If x falls between low and high limits, this function will return True.\n",
    "    if x>=low and x<=high:  # Comparison operators could be used concurrently as they set conditions, in this case with 'and'.\n",
    "        return True         # This means if x is greater or equal to 'low' and less than or equal to 'high' it returns True.\n",
    "\n",
    "    # For all other cases which I simplified with \"else\", this function will return False.\n",
    "    else:\n",
    "        return False\n",
    "\n",
    "\n",
    "# Below are some test cases of my function\n",
    "\n",
    "print(test_between(5, 1, 10), \"\\n\")\n",
    "print(test_between(0, -10, 10), \"\\n\")\n",
    "print(test_between(-7, -1, 10), \"\\n\")\n",
    "print(test_between(142857, 1999, 100000), \"\\n\")"
   ]
  },
  {
   "cell_type": "markdown",
   "id": "764fe405-5749-4237-bfae-27a616321954",
   "metadata": {},
   "source": [
    "In the cell below (as a comment) describe your thinking process and how your function displays good *function writing processes* as described in lecture. Must be at least 2 sentences."
   ]
  },
  {
   "cell_type": "code",
   "execution_count": 87,
   "id": "9b3c7ec6-8101-449e-b2a0-e2910b441b52",
   "metadata": {},
   "outputs": [],
   "source": [
    "# Your thinking process and description here\n",
    "\n",
    "# Again, I added detailed comments about my every code statement. \n",
    "# I also included comments about what comparison operators do, and how could they be used.\n",
    "# Justified my usage of comparison operators and if statements to get the expected boolean value."
   ]
  },
  {
   "cell_type": "markdown",
   "id": "242ced1e-1ed9-4b7a-ab2e-031daf67c8cb",
   "metadata": {},
   "source": [
    "## 2.4 Adding Strings Together\n",
    "Write a function that takes in at least 5 words and makes a sentence with proper grammer.\n",
    "\n",
    "Example:\n",
    "\n",
    "```\n",
    ">>> def making_sentences(a, b, c, d, e):\n",
    "...     # Your comment here\n",
    "...     # Your code here\n",
    "...     return # Your code here\n",
    "\n",
    ">>> a = \"Here\"\n",
    ">>> b = \"is\"\n",
    ">>> c = \"your\"\n",
    ">>> d = \"iced\"\n",
    ">>> e = \"latte\"\n",
    ">>> my_fav_sentence = making_sentences(a, b, c, d, e)\n",
    ">>> print(my_fav_sentence)\n",
    "\n",
    "'Here is your iced latte!'\n",
    "```"
   ]
  },
  {
   "cell_type": "code",
   "execution_count": 88,
   "id": "12165244-8b1a-4abc-b65d-10547db823d5",
   "metadata": {},
   "outputs": [
    {
     "name": "stdout",
     "output_type": "stream",
     "text": [
      "How to train your dragon. \n",
      "To be or not to be that is the problem. \n",
      "All matter is made up with an atom. \n"
     ]
    }
   ],
   "source": [
    "# Your code here\n",
    "\n",
    "# This is a function that generates a sentence with given list of words.\n",
    "def sentence_generator(sentence_list):\n",
    "\n",
    "    # I start with an empty string\n",
    "    full_sentence = ''\n",
    "\n",
    "    # Repeat for all elements in the provided list, and add the corresponding element in order\n",
    "    for i in range(len(sentence_list)):\n",
    "        full_sentence += sentence_list[i] + \" \"  # This is the normal space between the words.\n",
    "\n",
    "    return full_sentence\n",
    "\n",
    "# This is my sentence list which has a string of words as elements.\n",
    "sentence_1 = [\"How\", \"to\", \"train\", \"your\", \"dragon.\"]\n",
    "sentence_2 = [\"To\", 'be', 'or', 'not', 'to', 'be', 'that', 'is', 'the', 'problem.']\n",
    "sentence_3 = [\"All\", \"matter\", \"is\", \"made\", \"up\", \"with\", \"an\", \"atom.\"]\n",
    "\n",
    "movie_title = sentence_generator(sentence_1)\n",
    "quote_Hamlet = sentence_generator(sentence_2)\n",
    "quote_Feynman = sentence_generator(sentence_3)\n",
    "\n",
    "\n",
    "# Below are some test cases of my function\n",
    "\n",
    "print(movie_title)\n",
    "print(quote_Hamlet)\n",
    "print(quote_Feynman)"
   ]
  },
  {
   "cell_type": "markdown",
   "id": "75e1ebff-f910-40e3-9f9d-5988da68e107",
   "metadata": {},
   "source": [
    "# 3 Introduction to Scripting\n",
    "The act of **scripting** is glueing different pieces of code together. Let's practice!\n",
    "\n"
   ]
  },
  {
   "cell_type": "markdown",
   "id": "083add03-eaa2-4628-9dca-32f37dc8da9d",
   "metadata": {},
   "source": [
    "## 3.1 Define Multiple Functions\n",
    "Write two different functions:\n",
    "- One that converts celsius to fahrenheit\n",
    "- One that converts celsius to kelvin\n",
    "\n",
    "You will need to google these formulas if you don't know them off the top of your head! Because haha I don't know them."
   ]
  },
  {
   "cell_type": "code",
   "execution_count": 89,
   "id": "569001a8-f62a-4fdc-bebe-ec27f77f2385",
   "metadata": {},
   "outputs": [],
   "source": [
    "# Your code here\n",
    "\n",
    "# This is a function that converts Celsius to Fahrenheit\n",
    "def C_to_F(Tc):\n",
    "    \n",
    "    # Conversion formula of C -> F\n",
    "    Tf = ( (9/5) * Tc ) + 32\n",
    "\n",
    "    return Tf\n",
    "\n",
    "\n",
    "# This is a function that converts Celsius to Kelvin\n",
    "def C_to_K(Tc):\n",
    "    \n",
    "    # Conversion formula of C -> K\n",
    "    Tk = Tc + 273.15\n",
    "\n",
    "    return Tk"
   ]
  },
  {
   "cell_type": "markdown",
   "id": "a7dbe056-b57e-4ae8-af3a-a38acf20ac95",
   "metadata": {},
   "source": [
    "## 3.2 Calling Upon Other Functions\n",
    "Write a function that takes the two functions you wrote above and calls on them. Have you function return the values. Print the answer below. \n",
    "\n",
    "Example:\n",
    "\n",
    "```\n",
    ">>> def my_function():\n",
    "...     # Your comment here\n",
    "...     fahrenheit = first_function() # Just an example, your code here\n",
    "...     kelvin = second_function() # Another example, your code here\n",
    "...     return # Your code here\n",
    "\n",
    ">>> print(my_function())\n",
    "```\n",
    "\n",
    "Include screaming snake case syntax if you think it applies to this question. If not, include a comment explaining why not. "
   ]
  },
  {
   "cell_type": "code",
   "execution_count": 90,
   "id": "299f6dd8-7dda-4465-96f7-712e9149e179",
   "metadata": {},
   "outputs": [
    {
     "name": "stdout",
     "output_type": "stream",
     "text": [
      "0°C in Fahrenheit scale is 32°F and 273 in Kelvin scale!\n",
      "25°C in Fahrenheit scale is 77°F and 298 in Kelvin scale!\n",
      "-273.15°C in Fahrenheit scale is -459°F and 0 in Kelvin scale!\n"
     ]
    }
   ],
   "source": [
    "# Your code here\n",
    "\n",
    "# This is a function that is the combination of the two above functions.\n",
    "def Celsius_conversion(Tc):\n",
    "    \n",
    "    Tf = C_to_F(Tc)  # I only capitalized temperature T to not confuse with time (although time is not included in this question)\n",
    "    Tk = C_to_K(Tc)\n",
    "\n",
    "    # This is the sentence to be printed at the final stage of the function.\n",
    "    sentence = f\"{Tc}°C in Fahrenheit scale is {int(Tf)}°F and {int(Tk)} in Kelvin scale!\"\n",
    "    \n",
    "    return sentence\n",
    "\n",
    "print(Celsius_conversion(0))\n",
    "print(Celsius_conversion(25))\n",
    "print(Celsius_conversion(-273.15))"
   ]
  },
  {
   "cell_type": "markdown",
   "id": "4f50c562-1890-4fc1-adce-246e2ed77719",
   "metadata": {},
   "source": [
    "# 4 Get Creative\n",
    "Write a function on something that is not covered in this notebook. For example: assignment/comparison operators that you haven't worked with yet, global vs. local variables (like when it would be a good idea to use a global variable), default arguments, or all of the above! But your function definitely doesn't have to include everything we didn't cover in this assignment, picking one thing is perfectly fine. \n",
    "\n",
    "Bonus points if you teach me something new. (No importing packages for this question, if you don't know what that means we will learn in the following weeks!)"
   ]
  },
  {
   "cell_type": "code",
   "execution_count": 91,
   "id": "0c65d553-05b5-4f2f-8312-3e9ff1550753",
   "metadata": {},
   "outputs": [
    {
     "name": "stdout",
     "output_type": "stream",
     "text": [
      "\n",
      "Below 10000 there are 240 emirps. The largest emirp in this range is 9967.\n",
      "\n",
      "Below 20000 there are 627 emirps. The largest emirp in this range is 19973.\n",
      "\n",
      "Below 50000 there are 980 emirps. The largest emirp in this range is 39989.\n"
     ]
    }
   ],
   "source": [
    "# Your code here\n",
    "\n",
    "# This code finds a special type of integers, called 'emirp'.\n",
    "# Emirp is a special type of prime number that is still but different prime number even after reversing the digit order. (e.g. 37, 73)\n",
    "# Thus they must have two digits or more. I will write a function that lists emirps less than (inclusive) the input number.\n",
    "# This function would be made by combining two functions, prime numbers and a function that flips the number.\n",
    "\n",
    "\n",
    "# 1. Prime number listing function\n",
    "def is_prime(number):\n",
    "\n",
    "        # This statement says that the number will be appended to the list only if the test number is a prime number.\n",
    "        if all(number % divisor != 0 for divisor in range(2,number//2+1)):\n",
    "\n",
    "            # Yay, it passed our prime number test!\n",
    "            return True\n",
    "\n",
    "\n",
    "# 2. A number-flipping function\n",
    "def number_flip(number):\n",
    "\n",
    "    # I found it easier to make the numbers into a string and a slice to flip the order, and then make it into an integer again.\n",
    "    flipped_number = str(number)[::-1]\n",
    "    \n",
    "    return int(flipped_number)\n",
    "\n",
    "\n",
    "# 3. Function that lists all the emirps below and including that number\n",
    "def emirp_below_list(number):\n",
    "    \n",
    "    # This is a list that emirps will be stored.\n",
    "    emirp_list = []\n",
    "    \n",
    "    # The range of numbers is set from 13 which is the smallest emirp, to the number itself.\n",
    "    for test_num in range(13, number+1):\n",
    "\n",
    "        # I will assign this as it will make the following comparison operation simpler\n",
    "        flipped_num = number_flip(test_num)\n",
    "\n",
    "        #  There are 3 conditions that have to be fulfilled ...\n",
    "           # The number is prime          # Its reverse is also a prime     # They have to be different\n",
    "        if is_prime(test_num) == True and is_prime(flipped_num) == True and test_num != flipped_num:\n",
    "\n",
    "            # With this strict condition, the number will be appended to the list.\n",
    "            emirp_list.append(test_num)\n",
    "\n",
    "        else:  # If any of the above comparison fails, this number is not an emirp.\n",
    "            continue\n",
    "\n",
    "    return emirp_list\n",
    "\n",
    "\n",
    "#  I will check my function for 10000, 20000 and 50000.\n",
    "\n",
    "# - 10000\n",
    "check = emirp_below_list(10000)\n",
    "# print(check)\n",
    "num_emirp = len(check)\n",
    "\n",
    "if all(is_prime(num) == True for num in check):\n",
    "    print(f\"\\nBelow 10000 there are {num_emirp} emirps. The largest emirp in this range is {check[-1]}.\")\n",
    "\n",
    "# - 20000\n",
    "check = emirp_below_list(20000)\n",
    "# print(check)\n",
    "num_emirp = len(check)\n",
    "\n",
    "if all(is_prime(num) == True for num in check):\n",
    "    print(f\"\\nBelow 20000 there are {num_emirp} emirps. The largest emirp in this range is {check[-1]}.\")\n",
    "\n",
    "# - 50000\n",
    "check = emirp_below_list(50000)\n",
    "# print(check)\n",
    "num_emirp = len(check)\n",
    "\n",
    "if all(is_prime(num) == True for num in check):\n",
    "    print(f\"\\nBelow 50000 there are {num_emirp} emirps. The largest emirp in this range is {check[-1]}.\")"
   ]
  },
  {
   "cell_type": "markdown",
   "id": "8cf33b19-9bca-484e-8129-d8a4896a1bfa",
   "metadata": {},
   "source": [
    "# 5 Proper Submission\n",
    "To recieve full credit for this assignment make sure you do the following:\n",
    "1) Copy this jupter notebook from the `ulab_2024` repository into **YOUR** local `homework` branch.\n",
    "   \n",
    "3) Follow the tasks. Make sure to run all the cells so that all output is visible.\n",
    "   \n",
    "5) Push this notebook to your remote `homework4` branch. Refer to the lecture slides for more information.\n",
    "      \n",
    "6) **WARNING!! IF YOU DO NOT FOLLOW THIS STEP YOU WILL RECIEVE A ZERO!**\n",
    "   1) Take a screenshot of your command line when you `push` this notebook from your local `homework4` branch to your remote `homework4` branch. Make sure to prove that you are inside a branch besides `main` or `master` by calling `git branch` and make sure to prove that your `homework4` branch only contains the homework4 folder of Jupyter Notebook you copied over from `ulab_2024` (which can be done by calling `ls`). \n",
    "   3)  Include that screenshot in your remote branch when you upload your GitHub branch to Gradescope!\n",
    "  \n",
    "(Optional) Do you have any comments about this homework assigment or the class? Any questions you need answered? Please type them below. "
   ]
  },
  {
   "cell_type": "code",
   "execution_count": 92,
   "id": "fe93d7e1-ab53-49bd-8b50-aba721d0d2d4",
   "metadata": {},
   "outputs": [],
   "source": [
    "# Your comment here"
   ]
  }
 ],
 "metadata": {
  "kernelspec": {
   "display_name": "Python 3 (ipykernel)",
   "language": "python",
   "name": "python3"
  },
  "language_info": {
   "codemirror_mode": {
    "name": "ipython",
    "version": 3
   },
   "file_extension": ".py",
   "mimetype": "text/x-python",
   "name": "python",
   "nbconvert_exporter": "python",
   "pygments_lexer": "ipython3",
   "version": "3.10.4"
  }
 },
 "nbformat": 4,
 "nbformat_minor": 5
}
