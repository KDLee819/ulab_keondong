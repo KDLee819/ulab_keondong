{
 "cells": [
  {
   "cell_type": "markdown",
   "id": "f3d9c0dc-b215-4a71-bb27-d4f23e49330b",
   "metadata": {},
   "source": [
    "# Functions"
   ]
  },
  {
   "cell_type": "markdown",
   "id": "de2ac5be-bde4-479b-ace3-5d0540efb922",
   "metadata": {},
   "source": [
    "Functions can have default arguments."
   ]
  },
  {
   "cell_type": "code",
   "execution_count": 6,
   "id": "25874abb-8993-46dd-b681-c7fe17fece9b",
   "metadata": {},
   "outputs": [
    {
     "data": {
      "text/plain": [
       "\"KD's favorite color is purple.\""
      ]
     },
     "execution_count": 6,
     "metadata": {},
     "output_type": "execute_result"
    }
   ],
   "source": [
    "def fav_color(color, person=\"KD\"):\n",
    "    sentence = person + \"'s favorite color is \" + color + \".\"\n",
    "    return sentence\n",
    "\n",
    "\n",
    "# fav_color(\"orange\", \"KD\")\n",
    "# Can instead add KD in definition of the function.\n",
    "\n",
    "fav_color(color = \"purple\")"
   ]
  },
  {
   "cell_type": "code",
   "execution_count": 20,
   "id": "91c7dda0-b33b-4bcb-ad75-4e6e37db32a1",
   "metadata": {},
   "outputs": [
    {
     "name": "stdout",
     "output_type": "stream",
     "text": [
      "sisoinoconaclovociliscipocsorcimartluonomuenP\n",
      "nohtyP\n",
      "0100000000000000000\n"
     ]
    }
   ],
   "source": [
    "def word_flipper(word):\n",
    "    if type(word) != str:\n",
    "        print(\"We only accept strings!\")\n",
    "    else:\n",
    "        return word[::-1]\n",
    "\n",
    "print(flipper(\"Pneumonoultramicroscopicsilicovolcanoconiosis\"))\n",
    "print(flipper(\"Python\"))\n",
    "print(flipper(\"0000000000000000010\"))"
   ]
  },
  {
   "cell_type": "code",
   "execution_count": 22,
   "id": "4aa57248-d0d4-4203-a6d8-6cb06b7dbf8b",
   "metadata": {},
   "outputs": [
    {
     "data": {
      "text/plain": [
       "4391847381"
      ]
     },
     "execution_count": 22,
     "metadata": {},
     "output_type": "execute_result"
    }
   ],
   "source": [
    "def num_flipper(num):\n",
    "    return int(word_flipper(str(num)))\n",
    "\n",
    "num_flipper(1837481934)"
   ]
  },
  {
   "cell_type": "markdown",
   "id": "8af77d6e-013a-48dc-a0f5-aa21ec4e09e1",
   "metadata": {},
   "source": [
    "### Global & local variables"
   ]
  },
  {
   "cell_type": "markdown",
   "id": "514e0a7f-7d7e-49d8-9eab-f4d88359b7e0",
   "metadata": {},
   "source": [
    "### Varaibles can override"
   ]
  },
  {
   "cell_type": "code",
   "execution_count": 24,
   "id": "60dff4f9-e920-4f1f-8115-f9b81c3f3cc7",
   "metadata": {},
   "outputs": [
    {
     "name": "stdout",
     "output_type": "stream",
     "text": [
      "3\n",
      "6\n"
     ]
    }
   ],
   "source": [
    "x = 3\n",
    "print(x)\n",
    "\n",
    "x += 3\n",
    "print(x)"
   ]
  },
  {
   "cell_type": "code",
   "execution_count": null,
   "id": "13518cf4-2d94-4c7f-9345-109762c461a0",
   "metadata": {},
   "outputs": [],
   "source": []
  }
 ],
 "metadata": {
  "kernelspec": {
   "display_name": "Python 3 (ipykernel)",
   "language": "python",
   "name": "python3"
  },
  "language_info": {
   "codemirror_mode": {
    "name": "ipython",
    "version": 3
   },
   "file_extension": ".py",
   "mimetype": "text/x-python",
   "name": "python",
   "nbconvert_exporter": "python",
   "pygments_lexer": "ipython3",
   "version": "3.10.4"
  }
 },
 "nbformat": 4,
 "nbformat_minor": 5
}
